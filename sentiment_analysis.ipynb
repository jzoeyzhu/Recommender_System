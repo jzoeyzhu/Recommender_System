{
  "cells": [
    {
      "cell_type": "markdown",
      "metadata": {
        "id": "cJeaQS1BC2Ug"
      },
      "source": [
        "This file is for sentiment-analysis.\n",
        "For the preprocessing part, I tried preprocess the data using Spark, and specifically for the language detection, I used the PretrainedPipeline from sparknlp.pretrained. But I didn not find a lot of improvements from using Spark, the reason might be the use of UDFs and conversions between data structures.\n",
        "\n",
        "The entire part will not be using Spark for the following reasons:\n",
        "1. Converting pandas and spark dataframes are computationally expensive, the transformer architectures doe not support spark dataframe as an input\n",
        "2. Transformer models are computationally intensive and benefit significantly from the parallel processing capabilities of GPUs. PyTorch already has built-in support for distributed training on GPUs, enabling efficient scaling and parallel processing. This can be more effective for deep learning tasks compared to attempting to distribute these workloads across a Spark cluster without native support for the underlying transformer models.\n"
      ]
    },
    {
      "cell_type": "code",
      "source": [
        "from google.colab import drive\n",
        "drive.mount('/content/drive')"
      ],
      "metadata": {
        "colab": {
          "base_uri": "https://localhost:8080/"
        },
        "id": "GnUz_OxNNj0J",
        "outputId": "2e6a9ae9-9ea7-4207-9b5b-47662faac1ce"
      },
      "execution_count": null,
      "outputs": [
        {
          "output_type": "stream",
          "name": "stdout",
          "text": [
            "Mounted at /content/drive\n"
          ]
        }
      ]
    },
    {
      "cell_type": "code",
      "source": [
        "!pip install langdetect"
      ],
      "metadata": {
        "colab": {
          "base_uri": "https://localhost:8080/"
        },
        "id": "7HEem2lDOTLu",
        "outputId": "00920fb7-a2c1-4061-e2d5-bb95b3f1f066"
      },
      "execution_count": null,
      "outputs": [
        {
          "output_type": "stream",
          "name": "stdout",
          "text": [
            "Collecting langdetect\n",
            "  Downloading langdetect-1.0.9.tar.gz (981 kB)\n",
            "\u001b[2K     \u001b[90m━━━━━━━━━━━━━━━━━━━━━━━━━━━━━━━━━━━━━━━━\u001b[0m \u001b[32m981.5/981.5 kB\u001b[0m \u001b[31m6.0 MB/s\u001b[0m eta \u001b[36m0:00:00\u001b[0m\n",
            "\u001b[?25h  Preparing metadata (setup.py) ... \u001b[?25l\u001b[?25hdone\n",
            "Requirement already satisfied: six in /usr/local/lib/python3.10/dist-packages (from langdetect) (1.16.0)\n",
            "Building wheels for collected packages: langdetect\n",
            "  Building wheel for langdetect (setup.py) ... \u001b[?25l\u001b[?25hdone\n",
            "  Created wheel for langdetect: filename=langdetect-1.0.9-py3-none-any.whl size=993225 sha256=7c19b934d0a33d1a2ab8d248b72e0e7d98bb14543bcea9dc3016f4e610127c2b\n",
            "  Stored in directory: /root/.cache/pip/wheels/95/03/7d/59ea870c70ce4e5a370638b5462a7711ab78fba2f655d05106\n",
            "Successfully built langdetect\n",
            "Installing collected packages: langdetect\n",
            "Successfully installed langdetect-1.0.9\n"
          ]
        }
      ]
    },
    {
      "cell_type": "code",
      "source": [
        "import numpy as np\n",
        "import pandas as pd\n",
        "import json\n",
        "\n",
        "from langdetect import detect\n",
        "from sklearn.utils import resample\n",
        "from sklearn.model_selection import train_test_split\n",
        "from sklearn.metrics import confusion_matrix, classification_report\n",
        "\n",
        "\n",
        "import re\n",
        "import spacy\n",
        "sp = spacy.load('en_core_web_sm')\n",
        "\n",
        "import nltk\n",
        "nltk.download('punkt')\n",
        "from nltk.tokenize import word_tokenize\n",
        "\n",
        "\n",
        "\n",
        "import torch\n",
        "from torch import nn,optim\n",
        "from torch.utils.data import Dataset,DataLoader,TensorDataset, RandomSampler, SequentialSampler\n",
        "import torch.nn as nn\n",
        "import torch.nn.functional as F\n",
        "device=torch.device('cuda:0' if torch.cuda.is_available() else 'cpu')\n",
        "from transformers import pipeline, BertTokenizer, BertForSequenceClassification, AdamW, get_linear_schedule_with_warmup\n",
        "from torch.nn.utils.rnn import pad_sequence\n",
        "import time\n",
        "import datetime"
      ],
      "metadata": {
        "colab": {
          "base_uri": "https://localhost:8080/"
        },
        "id": "ifxDiCSROQDF",
        "outputId": "54959fe8-2e14-4a8d-80b4-9a3574a0a728"
      },
      "execution_count": null,
      "outputs": [
        {
          "output_type": "stream",
          "name": "stderr",
          "text": [
            "[nltk_data] Downloading package punkt to /root/nltk_data...\n",
            "[nltk_data]   Package punkt is already up-to-date!\n"
          ]
        }
      ]
    },
    {
      "cell_type": "markdown",
      "source": [
        "## Load Data"
      ],
      "metadata": {
        "id": "cMW-atZgKaIX"
      }
    },
    {
      "cell_type": "code",
      "source": [
        "file_path = '/content/drive/MyDrive/Data_Preprocessing/googleData.json'\n",
        "with open(file_path, 'r') as file:\n",
        "    df = json.load(file)\n",
        "\n",
        "# Normalize the data\n",
        "df = pd.json_normalize(df, record_path=['train'])"
      ],
      "metadata": {
        "id": "PsMQlSn4KemO"
      },
      "execution_count": null,
      "outputs": []
    },
    {
      "cell_type": "markdown",
      "source": [
        "## Data Preprocessing"
      ],
      "metadata": {
        "id": "2KF8M9IWN9Wi"
      }
    },
    {
      "cell_type": "code",
      "source": [
        "# Remove columns pics and history_reviews\n",
        "df = df.drop(['pics', 'history_reviews'], axis=1)"
      ],
      "metadata": {
        "id": "IdmdcZ9_N1Fy"
      },
      "execution_count": null,
      "outputs": []
    },
    {
      "cell_type": "code",
      "source": [
        "## Detect the language of the review, we'll focus on english review only\n",
        "\n",
        "# Function to detect language or return 'unknown' on exception\n",
        "def detect_language(text):\n",
        "    try:\n",
        "        return detect(text)\n",
        "    except Exception:\n",
        "        return 'unknown'\n",
        "\n",
        "# Apply language detection and filter only English reviews\n",
        "df['detect'] = df['review_text'].apply(detect_language)\n",
        "df = df[df['detect'] == 'en'].reset_index(drop=True)"
      ],
      "metadata": {
        "id": "ICnvdpkhOGeQ"
      },
      "execution_count": null,
      "outputs": []
    },
    {
      "cell_type": "code",
      "source": [
        "## clean the text while being cautious about stopwords. Stopwords like 'no' and 'not' must not be removed,\n",
        "## as they can significantly alter the meaning of the text (e.g., 'not delicious' should remain as 'not delicious').\n",
        "\n",
        "\n",
        "sp = spacy.load('en_core_web_sm')\n",
        "stopwords = sp.Defaults.stop_words\n",
        "\n",
        "exclude_stopwords = ['no','not']\n",
        "for word in exclude_stopwords:\n",
        "    stopwords.remove(word)\n",
        "\n",
        "# Load the spaCy model for English\n",
        "sp = spacy.load(\"en_core_web_sm\")\n",
        "\n",
        "def text_preprocessing(raw_review):\n",
        "    \"\"\"\n",
        "    Preprocess the text of a review.\n",
        "    \"\"\"\n",
        "    # Remove non-letters and convert to lower case\n",
        "    letters_only = re.sub(\"[^a-zA-Z]\", \" \", raw_review).lower()\n",
        "\n",
        "    # Tokenize the words\n",
        "    tokens = word_tokenize(letters_only)\n",
        "\n",
        "    # Filter out stopwords\n",
        "    filtered_tokens = [word for word in tokens if not sp.vocab[word].is_stop]\n",
        "\n",
        "    # Join the filtered tokens back into a string\n",
        "    return \" \".join(filtered_tokens)\n",
        "\n",
        "df['cleaned_reviews'] = df['review_text'].apply(text_preprocessing)\n"
      ],
      "metadata": {
        "id": "gWwbtZfdUKyJ"
      },
      "execution_count": null,
      "outputs": []
    },
    {
      "cell_type": "code",
      "source": [
        "## Label reviews as positive and negative (for simplicity, we'll remove all the 3-star review do do the analysis, because those reviews\n",
        "## most likely have both good and bad aspects feelings)\n",
        "\n",
        "\n",
        "# first remove all rows with rating not a number\n",
        "df['rating'] = pd.to_numeric(df['rating'], errors='coerce')\n",
        "df.dropna(subset=['rating'], inplace=True)\n",
        "\n",
        "df = df[(df[\"rating\"]!=3)].copy()\n",
        "\n",
        "df.loc[df['rating'] < 3, 'sentiment'] = 0\n",
        "df.loc[df['rating'] > 3, 'sentiment'] = 1"
      ],
      "metadata": {
        "id": "mXn7SpV6OtL-"
      },
      "execution_count": null,
      "outputs": []
    },
    {
      "cell_type": "code",
      "source": [
        "# split the train, test set for training\n",
        "df_features = df.drop(['sentiment'], axis=1)\n",
        "X_train, X_test, y_train, y_test = train_test_split(df_features, df['sentiment'], test_size=0.2, random_state=42)"
      ],
      "metadata": {
        "id": "nV21HxgBTYDs"
      },
      "execution_count": null,
      "outputs": []
    },
    {
      "cell_type": "code",
      "source": [
        "y_train.value_counts().sort_index()"
      ],
      "metadata": {
        "colab": {
          "base_uri": "https://localhost:8080/"
        },
        "id": "AGGjxe4cP1UO",
        "outputId": "ce082a2d-f3b2-4cd9-fac2-bfcc3ba3f673"
      },
      "execution_count": null,
      "outputs": [
        {
          "output_type": "execute_result",
          "data": {
            "text/plain": [
              "0.0     2438\n",
              "1.0    59551\n",
              "Name: sentiment, dtype: int64"
            ]
          },
          "metadata": {},
          "execution_count": 33
        }
      ]
    },
    {
      "cell_type": "markdown",
      "source": [
        "We can see the data is super imbalanced. People tend to give higher ratings (>3) to restaurants. We'll have to handle the imbalance problem for better learning. We'll simply oversample the minority class"
      ],
      "metadata": {
        "id": "NPhKD6BxP5IU"
      }
    },
    {
      "cell_type": "code",
      "source": [
        "# Separate majority and minority classes in both features and labels\n",
        "majority_X = X_train[y_train == 1]\n",
        "minority_X = X_train[y_train == 0]\n",
        "\n",
        "majority_y = y_train[y_train == 1]\n",
        "minority_y = y_train[y_train == 0]\n",
        "\n",
        "# Upsample minority class\n",
        "minority_X_upsampled, minority_y_upsampled = resample(minority_X,\n",
        "                                                      minority_y,\n",
        "                                                      replace=True,\n",
        "                                                      n_samples=len(majority_X),\n",
        "                                                      random_state=42)\n",
        "\n",
        "# Combine majority class with upsampled minority class\n",
        "X_train = pd.concat([majority_X, minority_X_upsampled])\n",
        "y_train = pd.concat([majority_y, minority_y_upsampled])"
      ],
      "metadata": {
        "id": "GeTDj0z5WZMj"
      },
      "execution_count": null,
      "outputs": []
    },
    {
      "cell_type": "code",
      "source": [
        "y_train.value_counts()"
      ],
      "metadata": {
        "colab": {
          "base_uri": "https://localhost:8080/"
        },
        "id": "50UXZI4jQuPN",
        "outputId": "2ae500fd-bd41-4f26-dd53-4a4bd500e54c"
      },
      "execution_count": null,
      "outputs": [
        {
          "output_type": "execute_result",
          "data": {
            "text/plain": [
              "1.0    59551\n",
              "0.0    59551\n",
              "Name: sentiment, dtype: int64"
            ]
          },
          "metadata": {},
          "execution_count": 46
        }
      ]
    },
    {
      "cell_type": "markdown",
      "metadata": {
        "id": "uzj_DhUgC2Ui"
      },
      "source": [
        "## Sentiment Analysis Using Bert"
      ]
    },
    {
      "cell_type": "code",
      "source": [
        "# Check if GPU is available and set PyTorch to use GPU\n",
        "device = \"cuda\" if torch.cuda.is_available() else \"cpu\"\n",
        "\n",
        "\n",
        "# Load a pre-trained tokenizer for sentiment analysis\n",
        "pre_trained_model = 'bert-base-uncased'\n",
        "tokenizer = BertTokenizer.from_pretrained(pre_trained_model)\n",
        "\n",
        "# Calculate the length of tokens for each review\n",
        "token_lens = []\n",
        "for txt in X_train.cleaned_reviews:\n",
        "    # Encode the text using the tokenizer\n",
        "    tokens = tokenizer.encode(txt, max_length=512, truncation=True)\n",
        "    token_lens.append(len(tokens))\n"
      ],
      "metadata": {
        "id": "22fyWuC1HmVn",
        "colab": {
          "base_uri": "https://localhost:8080/",
          "height": 145,
          "referenced_widgets": [
            "59eaf1e9e63645f68252712cfcc5cea8",
            "bd8da729095d4953a24ba81797dd2bc1",
            "04afe175cd5c4dad9e029b5391cd5b38",
            "235bc5dbdf9a4831ba53c9fb277fbe75",
            "c8fbc591b4844bdca457920dbd0a01c8",
            "52c763a6ca094bd29a95cd93026efe9e",
            "b16a79a7543943fdae9d950f9d46e48e",
            "5b249f43dd09411c9c5545a34ff95b52",
            "c1f3756935714ccf98fb949595b1c7dc",
            "87c9bd008117442d842f8f5fb2b1cf19",
            "2dc262e0e5de40fd92ba0aad22047ddf",
            "6f5258ebfa3945b3a00f7c28963d434e",
            "9ea9dbc88a2c4ec0bef8f75f9187254f",
            "baaaa50fc7884a78ab64946d18bfb5cd",
            "d5b146ab499b49a0867dc76c99b1dbc8",
            "c29256da8368400a8bd9aea574af513e",
            "03ebb25c980a4e9fbfb7f39cd9a96def",
            "eabb5e26ed694fcf8d1721dc451f9964",
            "1e6bc5dc6ef34c24aeea2d0a88f338fe",
            "aec5a3f8cca64ed4bfa594c0f4d705d6",
            "6ebe919f150146cfaa70b7f2e1a9ae4a",
            "623c0d9ef33240868c8a96a9d9b31ba2",
            "878bf07457ba4b5f945f3ce7ad695361",
            "a40c2abd2f6444e795a4604879cd9cf1",
            "10fdcbe427a448b885c08187891600dd",
            "1eeb8e198ab0439781f2182b20835b8c",
            "0922ebb62430424082ae5221b6517eb1",
            "3f630f22e2a44a439bfdaef82973a1d8",
            "5a15420380ac49eb9c4e6ed867ab954f",
            "7f5a9f73299846eda6a1cee90ab66881",
            "7e447e7bd76249a78a6bfbd33fc02cb1",
            "48cb57e867754a30845cd19ec8082008",
            "645383ac4fe44f16ba4e05443161466f",
            "3360e1faf2ea40b999e6b4e0b9c14a82",
            "a6596af0726e481aa707e4ccd221aded",
            "45a430f8d29647f9a002c8bb5fd92477",
            "114ce074c4ad4a5e813aed1693cf4699",
            "b01c8aef494d4c16a1dc9928feef0d1f",
            "77c760a92f7943fcbd3ecf0b7ccfa434",
            "e337ace1dad94dbabd55b5eb396f3c93",
            "a2ee7a5101854e399ad8502111cd8f35",
            "9be2c18342064858b1dc06811e4e7bd9",
            "1efebe7722504556a7b8c34e7b87e075",
            "ee6d5479a76649849088353ef76aa212"
          ]
        },
        "outputId": "eff508c8-f871-4729-b25c-02683df039e8"
      },
      "execution_count": null,
      "outputs": [
        {
          "output_type": "display_data",
          "data": {
            "text/plain": [
              "tokenizer_config.json:   0%|          | 0.00/28.0 [00:00<?, ?B/s]"
            ],
            "application/vnd.jupyter.widget-view+json": {
              "version_major": 2,
              "version_minor": 0,
              "model_id": "59eaf1e9e63645f68252712cfcc5cea8"
            }
          },
          "metadata": {}
        },
        {
          "output_type": "display_data",
          "data": {
            "text/plain": [
              "vocab.txt:   0%|          | 0.00/232k [00:00<?, ?B/s]"
            ],
            "application/vnd.jupyter.widget-view+json": {
              "version_major": 2,
              "version_minor": 0,
              "model_id": "6f5258ebfa3945b3a00f7c28963d434e"
            }
          },
          "metadata": {}
        },
        {
          "output_type": "display_data",
          "data": {
            "text/plain": [
              "tokenizer.json:   0%|          | 0.00/466k [00:00<?, ?B/s]"
            ],
            "application/vnd.jupyter.widget-view+json": {
              "version_major": 2,
              "version_minor": 0,
              "model_id": "878bf07457ba4b5f945f3ce7ad695361"
            }
          },
          "metadata": {}
        },
        {
          "output_type": "display_data",
          "data": {
            "text/plain": [
              "config.json:   0%|          | 0.00/570 [00:00<?, ?B/s]"
            ],
            "application/vnd.jupyter.widget-view+json": {
              "version_major": 2,
              "version_minor": 0,
              "model_id": "3360e1faf2ea40b999e6b4e0b9c14a82"
            }
          },
          "metadata": {}
        }
      ]
    },
    {
      "cell_type": "code",
      "source": [
        "# Calculate the 90th percentile\n",
        "\n",
        "percentile_99 = np.percentile(token_lens, 99)\n",
        "\n",
        "print(\"99th Percentile:\", percentile_99)"
      ],
      "metadata": {
        "colab": {
          "base_uri": "https://localhost:8080/"
        },
        "id": "1mG00wufZu3l",
        "outputId": "81270cff-2b76-4b16-c39b-61850fa2e48d"
      },
      "execution_count": null,
      "outputs": [
        {
          "output_type": "stream",
          "name": "stdout",
          "text": [
            "99th Percentile: 85.0\n"
          ]
        }
      ]
    },
    {
      "cell_type": "markdown",
      "source": [
        "Define the maximum sequence length for reviews. Most reviews have fewer than 85 tokens, but we need to account for special tokens like [CLS]. In models like BERT, [CLS] is used at the beginning of each sequence for classification tasks. Therefore, we set MAX_SEQ_LENGTH to 121 (120 for the actual content plus 1 for [CLS]), to cover most reviews and provide a buffer for longer ones, balancing efficiency and coverage."
      ],
      "metadata": {
        "id": "bUX80YA7eA3Y"
      }
    },
    {
      "cell_type": "code",
      "source": [
        "MAX_SEQ_LENGTH = 121"
      ],
      "metadata": {
        "id": "glYwn0M1eNbr"
      },
      "execution_count": null,
      "outputs": []
    },
    {
      "cell_type": "code",
      "source": [
        "X_train, X_val, y_train, y_val = train_test_split(X_train['cleaned_reviews'], y_train, test_size=0.15, random_state = 42, stratify= y_train)\n",
        "X_test = X_test['cleaned_reviews']"
      ],
      "metadata": {
        "id": "hjcDs-4CeVWi"
      },
      "execution_count": null,
      "outputs": []
    },
    {
      "cell_type": "code",
      "source": [
        "# Function to encode reviews\n",
        "import torch\n",
        "from torch.nn.utils.rnn import pad_sequence\n",
        "\n",
        "def encode_reviews(reviews, tokenizer, max_len):\n",
        "    input_ids = [tokenizer.encode(review, add_special_tokens=True, max_length=max_len, truncation=True) for review in reviews]\n",
        "\n",
        "    # Convert lists to PyTorch tensors\n",
        "    input_ids = [torch.tensor(seq, dtype=torch.long) for seq in input_ids]\n",
        "\n",
        "    # Pad sequences using PyTorch\n",
        "    input_ids_padded = pad_sequence(input_ids, batch_first=True, padding_value=0)\n",
        "\n",
        "    # Create attention masks (1 for tokens, 0 for padding)\n",
        "    attention_masks = (input_ids_padded != 0).long()\n",
        "\n",
        "    return input_ids_padded, attention_masks\n",
        "\n",
        "# Encode reviews for train, validation, and test sets\n",
        "train_input_ids, train_attention_masks = encode_reviews(X_train.tolist(), tokenizer, MAX_SEQ_LENGTH)\n",
        "val_input_ids, val_attention_masks = encode_reviews(X_val.tolist(), tokenizer, MAX_SEQ_LENGTH)\n",
        "test_input_ids, test_attention_masks = encode_reviews(X_test.tolist(), tokenizer, MAX_SEQ_LENGTH)\n"
      ],
      "metadata": {
        "id": "th2VzYe0cgpB"
      },
      "execution_count": null,
      "outputs": []
    },
    {
      "cell_type": "code",
      "source": [
        "# Convert labels to PyTorch tensors\n",
        "train_labels = torch.tensor(y_train.values)\n",
        "val_labels = torch.tensor(y_val.values)\n",
        "test_labels = torch.tensor(y_test.values)"
      ],
      "metadata": {
        "id": "BvWftnlveafX"
      },
      "execution_count": null,
      "outputs": []
    },
    {
      "cell_type": "code",
      "source": [
        "# Define batch size\n",
        "batch_size = 64\n",
        "\n",
        "# Function to create DataLoader\n",
        "def create_dataloader(inputs, masks, labels, sampler_class, batch_size):\n",
        "    data = TensorDataset(inputs, masks, labels)\n",
        "    sampler = sampler_class(data)\n",
        "    return DataLoader(data, sampler=sampler, batch_size=batch_size)\n",
        "\n",
        "# Create DataLoader for train, validation, and test sets\n",
        "train_dataloader = create_dataloader(train_input_ids, train_attention_masks, train_labels, RandomSampler, batch_size)\n",
        "val_dataloader = create_dataloader(val_input_ids, val_attention_masks, val_labels, SequentialSampler, batch_size)\n",
        "test_dataloader = create_dataloader(test_input_ids, test_attention_masks, test_labels, SequentialSampler, batch_size)"
      ],
      "metadata": {
        "id": "QLrHgYnme8hQ"
      },
      "execution_count": null,
      "outputs": []
    },
    {
      "cell_type": "code",
      "source": [
        "# Model Initialization\n",
        "model = BertForSequenceClassification.from_pretrained(\n",
        "    \"bert-base-uncased\",\n",
        "    num_labels=2,\n",
        "    output_attentions=False,\n",
        "    output_hidden_states=False,\n",
        ")\n",
        "model.to(device)"
      ],
      "metadata": {
        "colab": {
          "base_uri": "https://localhost:8080/",
          "height": 908,
          "referenced_widgets": [
            "23c061365c944f45b6baad91b2046c9a",
            "3ac5c44ce98143c4a59ff4e9c4b63fd2",
            "42764ee9722746c3a2395aee1bd3ccf1",
            "ec26ce3087d043d1b3636b16d03988a5",
            "f5b559c654254054aa5e2a9412dac852",
            "71b7e99b46ac494190ae4687d5fc1abe",
            "42751dd0adc34afd9a69a187d13b4629",
            "3cfd4d716b274496b80400e60674f58a",
            "fd63b4d4dfd242e3b499fb56ddae6611",
            "830542505b0343c392360f10ecb6a53b",
            "bf03ddfbf89d4d7eaea07e18a0121878"
          ]
        },
        "id": "6-ONTJjkfFdG",
        "outputId": "cc1e3870-0458-4581-f0dd-0d5657bd229d"
      },
      "execution_count": null,
      "outputs": [
        {
          "output_type": "display_data",
          "data": {
            "text/plain": [
              "model.safetensors:   0%|          | 0.00/440M [00:00<?, ?B/s]"
            ],
            "application/vnd.jupyter.widget-view+json": {
              "version_major": 2,
              "version_minor": 0,
              "model_id": "23c061365c944f45b6baad91b2046c9a"
            }
          },
          "metadata": {}
        },
        {
          "output_type": "stream",
          "name": "stderr",
          "text": [
            "Some weights of BertForSequenceClassification were not initialized from the model checkpoint at bert-base-uncased and are newly initialized: ['classifier.bias', 'classifier.weight']\n",
            "You should probably TRAIN this model on a down-stream task to be able to use it for predictions and inference.\n"
          ]
        },
        {
          "output_type": "execute_result",
          "data": {
            "text/plain": [
              "BertForSequenceClassification(\n",
              "  (bert): BertModel(\n",
              "    (embeddings): BertEmbeddings(\n",
              "      (word_embeddings): Embedding(30522, 768, padding_idx=0)\n",
              "      (position_embeddings): Embedding(512, 768)\n",
              "      (token_type_embeddings): Embedding(2, 768)\n",
              "      (LayerNorm): LayerNorm((768,), eps=1e-12, elementwise_affine=True)\n",
              "      (dropout): Dropout(p=0.1, inplace=False)\n",
              "    )\n",
              "    (encoder): BertEncoder(\n",
              "      (layer): ModuleList(\n",
              "        (0-11): 12 x BertLayer(\n",
              "          (attention): BertAttention(\n",
              "            (self): BertSelfAttention(\n",
              "              (query): Linear(in_features=768, out_features=768, bias=True)\n",
              "              (key): Linear(in_features=768, out_features=768, bias=True)\n",
              "              (value): Linear(in_features=768, out_features=768, bias=True)\n",
              "              (dropout): Dropout(p=0.1, inplace=False)\n",
              "            )\n",
              "            (output): BertSelfOutput(\n",
              "              (dense): Linear(in_features=768, out_features=768, bias=True)\n",
              "              (LayerNorm): LayerNorm((768,), eps=1e-12, elementwise_affine=True)\n",
              "              (dropout): Dropout(p=0.1, inplace=False)\n",
              "            )\n",
              "          )\n",
              "          (intermediate): BertIntermediate(\n",
              "            (dense): Linear(in_features=768, out_features=3072, bias=True)\n",
              "            (intermediate_act_fn): GELUActivation()\n",
              "          )\n",
              "          (output): BertOutput(\n",
              "            (dense): Linear(in_features=3072, out_features=768, bias=True)\n",
              "            (LayerNorm): LayerNorm((768,), eps=1e-12, elementwise_affine=True)\n",
              "            (dropout): Dropout(p=0.1, inplace=False)\n",
              "          )\n",
              "        )\n",
              "      )\n",
              "    )\n",
              "    (pooler): BertPooler(\n",
              "      (dense): Linear(in_features=768, out_features=768, bias=True)\n",
              "      (activation): Tanh()\n",
              "    )\n",
              "  )\n",
              "  (dropout): Dropout(p=0.1, inplace=False)\n",
              "  (classifier): Linear(in_features=768, out_features=2, bias=True)\n",
              ")"
            ]
          },
          "metadata": {},
          "execution_count": 74
        }
      ]
    },
    {
      "cell_type": "code",
      "source": [
        "epochs=2\n",
        "\n",
        "# Setting up the optimizer and scheduler\n",
        "optimizer = AdamW(model.parameters(), lr=3e-5)\n",
        "total_steps = len(train_dataloader) * epochs\n",
        "scheduler = get_linear_schedule_with_warmup(optimizer, num_warmup_steps=0, num_training_steps=total_steps)\n",
        "\n",
        "# Define loss function and move it to GPU\n",
        "loss_fn=nn.CrossEntropyLoss().to(device)\n",
        "\n",
        "# Helper functions\n",
        "def format_time(elapsed):\n",
        "    return str(datetime.timedelta(seconds=int(round(elapsed))))\n",
        "\n",
        "def accuracy(preds, labels):\n",
        "    return np.mean(np.argmax(preds, axis=1).flatten() == labels.flatten())"
      ],
      "metadata": {
        "colab": {
          "base_uri": "https://localhost:8080/"
        },
        "id": "t88BkeJofSmL",
        "outputId": "45aeae46-c411-4de6-c146-a0265518c86a"
      },
      "execution_count": null,
      "outputs": [
        {
          "output_type": "stream",
          "name": "stderr",
          "text": [
            "/usr/local/lib/python3.10/dist-packages/transformers/optimization.py:411: FutureWarning: This implementation of AdamW is deprecated and will be removed in a future version. Use the PyTorch implementation torch.optim.AdamW instead, or set `no_deprecation_warning=True` to disable this warning\n",
            "  warnings.warn(\n"
          ]
        }
      ]
    },
    {
      "cell_type": "code",
      "source": [
        "# Initialize storage for performance metrics\n",
        "metrics = {\n",
        "    \"train_loss\": [], \"train_acc\": [],\n",
        "    \"val_loss\": [], \"val_acc\": []\n",
        "}"
      ],
      "metadata": {
        "id": "rrkiRRJihKr5"
      },
      "execution_count": null,
      "outputs": []
    },
    {
      "cell_type": "code",
      "source": [
        "# Training and Evaluation Loop\n",
        "for epoch in range(epochs):\n",
        "    print(f\"\\nEpoch {epoch+1}/{epochs}\")\n",
        "\n",
        "    # Training Phase\n",
        "    model.train()\n",
        "    total_train_loss, total_train_acc = 0, 0\n",
        "    start_time = time.time()\n",
        "\n",
        "    for step, batch in enumerate(train_dataloader):\n",
        "        if step % 100 == 0 and not step == 0:\n",
        "            elapsed = format_time(time.time() - start_time)\n",
        "            print(f'Batch {step:>5,} of {len(train_dataloader):>5,}. Elapsed: {elapsed}.')\n",
        "\n",
        "        b_input_ids, b_attention_mask, b_labels = (item.to(device) for item in batch)\n",
        "        model.zero_grad()\n",
        "        outputs = model(b_input_ids, attention_mask=b_attention_mask, labels=b_labels)\n",
        "        loss = outputs.loss\n",
        "        logits = outputs.logits\n",
        "\n",
        "        total_train_loss += loss.item()\n",
        "        total_train_acc += accuracy(logits.detach().cpu().numpy(), b_labels.cpu().numpy())\n",
        "\n",
        "        loss.backward()\n",
        "        torch.nn.utils.clip_grad_norm_(model.parameters(), 1.0)\n",
        "        optimizer.step()\n",
        "        scheduler.step()\n",
        "\n",
        "    avg_train_loss = total_train_loss / len(train_dataloader)\n",
        "    avg_train_acc = total_train_acc / len(train_dataloader)\n",
        "    metrics[\"train_loss\"].append(avg_train_loss)\n",
        "    metrics[\"train_acc\"].append(avg_train_acc)\n",
        "\n",
        "    print(f\"\\nAverage Training Accuracy: {avg_train_acc:.2f}\")\n",
        "    print(f'Average Training Loss: {avg_train_loss:.2f}')\n",
        "    print(f'Training Epoch Time: {format_time(time.time() - start_time)}')\n",
        "\n",
        "    # Validation Phase\n",
        "    model.eval()\n",
        "    total_val_loss, total_val_acc = 0, 0\n",
        "    start_time = time.time()\n",
        "\n",
        "    for batch in val_dataloader:\n",
        "        b_input_ids, b_attention_mask, b_labels = (item.to(device) for item in batch)\n",
        "\n",
        "        with torch.no_grad():\n",
        "            outputs = model(b_input_ids, token_type_ids=None, attention_mask=b_attention_mask, labels=b_labels)\n",
        "            loss = outputs.loss\n",
        "            logits = outputs.logits\n",
        "\n",
        "            total_val_loss += loss.item()\n",
        "            total_val_acc += accuracy(logits.detach().cpu().numpy(), b_labels.cpu().numpy())\n",
        "\n",
        "    avg_val_loss = total_val_loss / len(val_dataloader)\n",
        "    avg_val_acc = total_val_acc / len(val_dataloader)\n",
        "    metrics[\"val_loss\"].append(avg_val_loss)\n",
        "    metrics[\"val_acc\"].append(avg_val_acc)\n",
        "\n",
        "    print(f\"\\nValidation Accuracy: {avg_val_acc:.2f}\")\n",
        "    print(f'Validation Loss: {avg_val_loss:.2f}')\n",
        "    print(f'Validation Time: {format_time(time.time() - start_time)}')"
      ],
      "metadata": {
        "colab": {
          "base_uri": "https://localhost:8080/"
        },
        "id": "V64GtGOlhOpn",
        "outputId": "20c5abe6-419b-4156-f074-1df5d5be1776"
      },
      "execution_count": null,
      "outputs": [
        {
          "output_type": "stream",
          "name": "stdout",
          "text": [
            "\n",
            "Epoch 1/2\n",
            "Batch   100 of 1,345. Elapsed: 0:01:59.\n",
            "Batch   200 of 1,345. Elapsed: 0:03:57.\n",
            "Batch   300 of 1,345. Elapsed: 0:05:56.\n",
            "Batch   400 of 1,345. Elapsed: 0:07:54.\n",
            "Batch   500 of 1,345. Elapsed: 0:09:52.\n",
            "Batch   600 of 1,345. Elapsed: 0:11:51.\n",
            "Batch   700 of 1,345. Elapsed: 0:13:49.\n",
            "Batch   800 of 1,345. Elapsed: 0:15:48.\n",
            "Batch   900 of 1,345. Elapsed: 0:17:46.\n",
            "Batch 1,000 of 1,345. Elapsed: 0:19:45.\n",
            "Batch 1,100 of 1,345. Elapsed: 0:21:43.\n",
            "Batch 1,200 of 1,345. Elapsed: 0:23:42.\n",
            "Batch 1,300 of 1,345. Elapsed: 0:25:40.\n",
            "\n",
            "Average Training Accuracy: 0.99\n",
            "Average Training Loss: 0.03\n",
            "Training Epoch Time: 0:26:33\n",
            "\n",
            "Validation Accuracy: 0.99\n",
            "Validation Loss: 0.05\n",
            "Validation Time: 0:01:46\n",
            "\n",
            "Epoch 2/2\n",
            "Batch   100 of 1,345. Elapsed: 0:01:59.\n",
            "Batch   200 of 1,345. Elapsed: 0:03:57.\n",
            "Batch   300 of 1,345. Elapsed: 0:05:55.\n",
            "Batch   400 of 1,345. Elapsed: 0:07:53.\n",
            "Batch   500 of 1,345. Elapsed: 0:09:51.\n",
            "Batch   600 of 1,345. Elapsed: 0:11:49.\n",
            "Batch   700 of 1,345. Elapsed: 0:13:47.\n",
            "Batch   800 of 1,345. Elapsed: 0:15:45.\n",
            "Batch   900 of 1,345. Elapsed: 0:17:43.\n",
            "Batch 1,000 of 1,345. Elapsed: 0:19:41.\n",
            "Batch 1,100 of 1,345. Elapsed: 0:21:39.\n",
            "Batch 1,200 of 1,345. Elapsed: 0:23:37.\n",
            "Batch 1,300 of 1,345. Elapsed: 0:25:35.\n",
            "\n",
            "Average Training Accuracy: 1.00\n",
            "Average Training Loss: 0.01\n",
            "Training Epoch Time: 0:26:27\n",
            "\n",
            "Validation Accuracy: 0.99\n",
            "Validation Loss: 0.05\n",
            "Validation Time: 0:01:46\n"
          ]
        }
      ]
    },
    {
      "cell_type": "code",
      "source": [
        "model.eval()\n",
        "predictions, true_labels = [], []\n",
        "\n",
        "for batch in test_dataloader:\n",
        "  b_input_ids, b_attention_mask, b_labels = (item.to(device) for item in batch)\n",
        "\n",
        "  with torch.no_grad():\n",
        "    outputs = model(input_ids=b_input_ids, attention_mask=b_attention_mask)\n",
        "\n",
        "  logits = outputs[0]\n",
        "  predictions.extend(logits.tolist())\n",
        "  true_labels.extend(b_labels.tolist())\n",
        "\n",
        "print('Done with predictions')\n",
        "\n",
        "# Convert predictions to softmax probabilities\n",
        "preds = torch.tensor(predictions)\n",
        "preds = F.softmax(preds, dim=1)\n",
        "preds = np.array(preds)\n",
        "\n",
        "# Convert true_labels to numpy array\n",
        "true_labels = np.array(true_labels)\n",
        "\n",
        "# Function to evaluate the model\n",
        "def evaluate(y_test, predictions):\n",
        "    # Generate classification report\n",
        "    class_report = classification_report(y_test, predictions, digits=3)\n",
        "    print(class_report)\n",
        "\n",
        "# Evaluating the model\n",
        "evaluate(true_labels, preds.argmax(1))"
      ],
      "metadata": {
        "colab": {
          "base_uri": "https://localhost:8080/"
        },
        "id": "lPq9gdbfmoNF",
        "outputId": "0a9bb763-b89e-439c-d200-025612cb5a8b"
      },
      "execution_count": null,
      "outputs": [
        {
          "output_type": "stream",
          "name": "stdout",
          "text": [
            "Done with predictions\n",
            "              precision    recall  f1-score   support\n",
            "\n",
            "           0      0.492     0.511     0.501       583\n",
            "           1      0.981     0.979     0.980     14915\n",
            "\n",
            "    accuracy                          0.962     15498\n",
            "   macro avg      0.736     0.745     0.741     15498\n",
            "weighted avg      0.962     0.962     0.962     15498\n",
            "\n"
          ]
        }
      ]
    },
    {
      "cell_type": "code",
      "source": [
        "# Define the directory where you want to save the model\n",
        "save_directory = \"/content/drive/MyDrive/cs631models\"\n",
        "\n",
        "# Save the model and tokenizer\n",
        "model.save_pretrained(save_directory)\n",
        "tokenizer.save_pretrained(save_directory)"
      ],
      "metadata": {
        "colab": {
          "base_uri": "https://localhost:8080/"
        },
        "id": "35Vb5xf2gdXl",
        "outputId": "53875631-bdde-4149-b06d-273663cacbca"
      },
      "execution_count": null,
      "outputs": [
        {
          "output_type": "execute_result",
          "data": {
            "text/plain": [
              "('/content/drive/MyDrive/cs631models/tokenizer_config.json',\n",
              " '/content/drive/MyDrive/cs631models/special_tokens_map.json',\n",
              " '/content/drive/MyDrive/cs631models/vocab.txt',\n",
              " '/content/drive/MyDrive/cs631models/added_tokens.json')"
            ]
          },
          "metadata": {},
          "execution_count": 82
        }
      ]
    },
    {
      "cell_type": "code",
      "source": [
        "device = torch.device(\"cuda\" if torch.cuda.is_available() else \"cpu\")\n",
        "model.to(device)\n",
        "\n",
        "# apply the model on the entire dataset\n",
        "input_ids, attention_masks = encode_reviews(df['cleaned_reviews'].tolist(), tokenizer, MAX_SEQ_LENGTH)\n",
        "\n",
        "data = TensorDataset(input_ids, attention_masks)\n",
        "data_sampler = SequentialSampler(data)\n",
        "data_loader = DataLoader(data, sampler=data_sampler, batch_size=128)\n",
        "\n",
        "# Predict and collect probabilities\n",
        "predictions = []\n",
        "for batch in data_loader:\n",
        "    # Add batch to the device\n",
        "    batch = tuple(t.to(device) for t in batch)\n",
        "    b_input_ids, b_attention_mask = batch\n",
        "\n",
        "    # Forward pass, calculate logit predictions\n",
        "    with torch.no_grad():\n",
        "        outputs = model(b_input_ids, token_type_ids=None, attention_mask=b_attention_mask)\n",
        "\n",
        "    logits = outputs.logits\n",
        "    probabilities = torch.nn.functional.softmax(logits, dim=1)\n",
        "    predictions.extend(probabilities[:, 1].tolist())  # Assuming the second column corresponds to the \"positive\" class\n",
        "\n",
        "# Add predictions to the DataFrame\n",
        "df['sentiment_score'] = predictions\n",
        "threshold = 0.5  # Example threshold\n",
        "df['sentiment'] = df['sentiment_score'].apply(lambda x: 'positive' if x > threshold else 'negative')\n",
        "\n",
        "# Save the updated DataFrame\n",
        "df.to_csv('/content/drive/MyDrive/Data_Preprocessing/final_training_dataset.csv', index=False)"
      ],
      "metadata": {
        "id": "e0UujBQpRajs"
      },
      "execution_count": null,
      "outputs": []
    },
    {
      "cell_type": "markdown",
      "source": [
        "Reference: https://github.com/josepaulosa/NLP_Sentiment_Analysis/blob/main/BERT.ipynb"
      ],
      "metadata": {
        "id": "tue0VASB9Ue7"
      }
    }
  ],
  "metadata": {
    "kernelspec": {
      "display_name": "Python 3",
      "name": "python3"
    },
    "language_info": {
      "codemirror_mode": {
        "name": "ipython",
        "version": 3
      },
      "file_extension": ".py",
      "mimetype": "text/x-python",
      "name": "python",
      "nbconvert_exporter": "python",
      "pygments_lexer": "ipython3",
      "version": "3.9.6"
    },
    "colab": {
      "provenance": [],
      "gpuType": "T4",
      "collapsed_sections": [
        "cMW-atZgKaIX"
      ]
    },
    "accelerator": "GPU",
    "widgets": {
      "application/vnd.jupyter.widget-state+json": {
        "59eaf1e9e63645f68252712cfcc5cea8": {
          "model_module": "@jupyter-widgets/controls",
          "model_name": "HBoxModel",
          "model_module_version": "1.5.0",
          "state": {
            "_dom_classes": [],
            "_model_module": "@jupyter-widgets/controls",
            "_model_module_version": "1.5.0",
            "_model_name": "HBoxModel",
            "_view_count": null,
            "_view_module": "@jupyter-widgets/controls",
            "_view_module_version": "1.5.0",
            "_view_name": "HBoxView",
            "box_style": "",
            "children": [
              "IPY_MODEL_bd8da729095d4953a24ba81797dd2bc1",
              "IPY_MODEL_04afe175cd5c4dad9e029b5391cd5b38",
              "IPY_MODEL_235bc5dbdf9a4831ba53c9fb277fbe75"
            ],
            "layout": "IPY_MODEL_c8fbc591b4844bdca457920dbd0a01c8"
          }
        },
        "bd8da729095d4953a24ba81797dd2bc1": {
          "model_module": "@jupyter-widgets/controls",
          "model_name": "HTMLModel",
          "model_module_version": "1.5.0",
          "state": {
            "_dom_classes": [],
            "_model_module": "@jupyter-widgets/controls",
            "_model_module_version": "1.5.0",
            "_model_name": "HTMLModel",
            "_view_count": null,
            "_view_module": "@jupyter-widgets/controls",
            "_view_module_version": "1.5.0",
            "_view_name": "HTMLView",
            "description": "",
            "description_tooltip": null,
            "layout": "IPY_MODEL_52c763a6ca094bd29a95cd93026efe9e",
            "placeholder": "​",
            "style": "IPY_MODEL_b16a79a7543943fdae9d950f9d46e48e",
            "value": "tokenizer_config.json: 100%"
          }
        },
        "04afe175cd5c4dad9e029b5391cd5b38": {
          "model_module": "@jupyter-widgets/controls",
          "model_name": "FloatProgressModel",
          "model_module_version": "1.5.0",
          "state": {
            "_dom_classes": [],
            "_model_module": "@jupyter-widgets/controls",
            "_model_module_version": "1.5.0",
            "_model_name": "FloatProgressModel",
            "_view_count": null,
            "_view_module": "@jupyter-widgets/controls",
            "_view_module_version": "1.5.0",
            "_view_name": "ProgressView",
            "bar_style": "success",
            "description": "",
            "description_tooltip": null,
            "layout": "IPY_MODEL_5b249f43dd09411c9c5545a34ff95b52",
            "max": 28,
            "min": 0,
            "orientation": "horizontal",
            "style": "IPY_MODEL_c1f3756935714ccf98fb949595b1c7dc",
            "value": 28
          }
        },
        "235bc5dbdf9a4831ba53c9fb277fbe75": {
          "model_module": "@jupyter-widgets/controls",
          "model_name": "HTMLModel",
          "model_module_version": "1.5.0",
          "state": {
            "_dom_classes": [],
            "_model_module": "@jupyter-widgets/controls",
            "_model_module_version": "1.5.0",
            "_model_name": "HTMLModel",
            "_view_count": null,
            "_view_module": "@jupyter-widgets/controls",
            "_view_module_version": "1.5.0",
            "_view_name": "HTMLView",
            "description": "",
            "description_tooltip": null,
            "layout": "IPY_MODEL_87c9bd008117442d842f8f5fb2b1cf19",
            "placeholder": "​",
            "style": "IPY_MODEL_2dc262e0e5de40fd92ba0aad22047ddf",
            "value": " 28.0/28.0 [00:00&lt;00:00, 1.04kB/s]"
          }
        },
        "c8fbc591b4844bdca457920dbd0a01c8": {
          "model_module": "@jupyter-widgets/base",
          "model_name": "LayoutModel",
          "model_module_version": "1.2.0",
          "state": {
            "_model_module": "@jupyter-widgets/base",
            "_model_module_version": "1.2.0",
            "_model_name": "LayoutModel",
            "_view_count": null,
            "_view_module": "@jupyter-widgets/base",
            "_view_module_version": "1.2.0",
            "_view_name": "LayoutView",
            "align_content": null,
            "align_items": null,
            "align_self": null,
            "border": null,
            "bottom": null,
            "display": null,
            "flex": null,
            "flex_flow": null,
            "grid_area": null,
            "grid_auto_columns": null,
            "grid_auto_flow": null,
            "grid_auto_rows": null,
            "grid_column": null,
            "grid_gap": null,
            "grid_row": null,
            "grid_template_areas": null,
            "grid_template_columns": null,
            "grid_template_rows": null,
            "height": null,
            "justify_content": null,
            "justify_items": null,
            "left": null,
            "margin": null,
            "max_height": null,
            "max_width": null,
            "min_height": null,
            "min_width": null,
            "object_fit": null,
            "object_position": null,
            "order": null,
            "overflow": null,
            "overflow_x": null,
            "overflow_y": null,
            "padding": null,
            "right": null,
            "top": null,
            "visibility": null,
            "width": null
          }
        },
        "52c763a6ca094bd29a95cd93026efe9e": {
          "model_module": "@jupyter-widgets/base",
          "model_name": "LayoutModel",
          "model_module_version": "1.2.0",
          "state": {
            "_model_module": "@jupyter-widgets/base",
            "_model_module_version": "1.2.0",
            "_model_name": "LayoutModel",
            "_view_count": null,
            "_view_module": "@jupyter-widgets/base",
            "_view_module_version": "1.2.0",
            "_view_name": "LayoutView",
            "align_content": null,
            "align_items": null,
            "align_self": null,
            "border": null,
            "bottom": null,
            "display": null,
            "flex": null,
            "flex_flow": null,
            "grid_area": null,
            "grid_auto_columns": null,
            "grid_auto_flow": null,
            "grid_auto_rows": null,
            "grid_column": null,
            "grid_gap": null,
            "grid_row": null,
            "grid_template_areas": null,
            "grid_template_columns": null,
            "grid_template_rows": null,
            "height": null,
            "justify_content": null,
            "justify_items": null,
            "left": null,
            "margin": null,
            "max_height": null,
            "max_width": null,
            "min_height": null,
            "min_width": null,
            "object_fit": null,
            "object_position": null,
            "order": null,
            "overflow": null,
            "overflow_x": null,
            "overflow_y": null,
            "padding": null,
            "right": null,
            "top": null,
            "visibility": null,
            "width": null
          }
        },
        "b16a79a7543943fdae9d950f9d46e48e": {
          "model_module": "@jupyter-widgets/controls",
          "model_name": "DescriptionStyleModel",
          "model_module_version": "1.5.0",
          "state": {
            "_model_module": "@jupyter-widgets/controls",
            "_model_module_version": "1.5.0",
            "_model_name": "DescriptionStyleModel",
            "_view_count": null,
            "_view_module": "@jupyter-widgets/base",
            "_view_module_version": "1.2.0",
            "_view_name": "StyleView",
            "description_width": ""
          }
        },
        "5b249f43dd09411c9c5545a34ff95b52": {
          "model_module": "@jupyter-widgets/base",
          "model_name": "LayoutModel",
          "model_module_version": "1.2.0",
          "state": {
            "_model_module": "@jupyter-widgets/base",
            "_model_module_version": "1.2.0",
            "_model_name": "LayoutModel",
            "_view_count": null,
            "_view_module": "@jupyter-widgets/base",
            "_view_module_version": "1.2.0",
            "_view_name": "LayoutView",
            "align_content": null,
            "align_items": null,
            "align_self": null,
            "border": null,
            "bottom": null,
            "display": null,
            "flex": null,
            "flex_flow": null,
            "grid_area": null,
            "grid_auto_columns": null,
            "grid_auto_flow": null,
            "grid_auto_rows": null,
            "grid_column": null,
            "grid_gap": null,
            "grid_row": null,
            "grid_template_areas": null,
            "grid_template_columns": null,
            "grid_template_rows": null,
            "height": null,
            "justify_content": null,
            "justify_items": null,
            "left": null,
            "margin": null,
            "max_height": null,
            "max_width": null,
            "min_height": null,
            "min_width": null,
            "object_fit": null,
            "object_position": null,
            "order": null,
            "overflow": null,
            "overflow_x": null,
            "overflow_y": null,
            "padding": null,
            "right": null,
            "top": null,
            "visibility": null,
            "width": null
          }
        },
        "c1f3756935714ccf98fb949595b1c7dc": {
          "model_module": "@jupyter-widgets/controls",
          "model_name": "ProgressStyleModel",
          "model_module_version": "1.5.0",
          "state": {
            "_model_module": "@jupyter-widgets/controls",
            "_model_module_version": "1.5.0",
            "_model_name": "ProgressStyleModel",
            "_view_count": null,
            "_view_module": "@jupyter-widgets/base",
            "_view_module_version": "1.2.0",
            "_view_name": "StyleView",
            "bar_color": null,
            "description_width": ""
          }
        },
        "87c9bd008117442d842f8f5fb2b1cf19": {
          "model_module": "@jupyter-widgets/base",
          "model_name": "LayoutModel",
          "model_module_version": "1.2.0",
          "state": {
            "_model_module": "@jupyter-widgets/base",
            "_model_module_version": "1.2.0",
            "_model_name": "LayoutModel",
            "_view_count": null,
            "_view_module": "@jupyter-widgets/base",
            "_view_module_version": "1.2.0",
            "_view_name": "LayoutView",
            "align_content": null,
            "align_items": null,
            "align_self": null,
            "border": null,
            "bottom": null,
            "display": null,
            "flex": null,
            "flex_flow": null,
            "grid_area": null,
            "grid_auto_columns": null,
            "grid_auto_flow": null,
            "grid_auto_rows": null,
            "grid_column": null,
            "grid_gap": null,
            "grid_row": null,
            "grid_template_areas": null,
            "grid_template_columns": null,
            "grid_template_rows": null,
            "height": null,
            "justify_content": null,
            "justify_items": null,
            "left": null,
            "margin": null,
            "max_height": null,
            "max_width": null,
            "min_height": null,
            "min_width": null,
            "object_fit": null,
            "object_position": null,
            "order": null,
            "overflow": null,
            "overflow_x": null,
            "overflow_y": null,
            "padding": null,
            "right": null,
            "top": null,
            "visibility": null,
            "width": null
          }
        },
        "2dc262e0e5de40fd92ba0aad22047ddf": {
          "model_module": "@jupyter-widgets/controls",
          "model_name": "DescriptionStyleModel",
          "model_module_version": "1.5.0",
          "state": {
            "_model_module": "@jupyter-widgets/controls",
            "_model_module_version": "1.5.0",
            "_model_name": "DescriptionStyleModel",
            "_view_count": null,
            "_view_module": "@jupyter-widgets/base",
            "_view_module_version": "1.2.0",
            "_view_name": "StyleView",
            "description_width": ""
          }
        },
        "6f5258ebfa3945b3a00f7c28963d434e": {
          "model_module": "@jupyter-widgets/controls",
          "model_name": "HBoxModel",
          "model_module_version": "1.5.0",
          "state": {
            "_dom_classes": [],
            "_model_module": "@jupyter-widgets/controls",
            "_model_module_version": "1.5.0",
            "_model_name": "HBoxModel",
            "_view_count": null,
            "_view_module": "@jupyter-widgets/controls",
            "_view_module_version": "1.5.0",
            "_view_name": "HBoxView",
            "box_style": "",
            "children": [
              "IPY_MODEL_9ea9dbc88a2c4ec0bef8f75f9187254f",
              "IPY_MODEL_baaaa50fc7884a78ab64946d18bfb5cd",
              "IPY_MODEL_d5b146ab499b49a0867dc76c99b1dbc8"
            ],
            "layout": "IPY_MODEL_c29256da8368400a8bd9aea574af513e"
          }
        },
        "9ea9dbc88a2c4ec0bef8f75f9187254f": {
          "model_module": "@jupyter-widgets/controls",
          "model_name": "HTMLModel",
          "model_module_version": "1.5.0",
          "state": {
            "_dom_classes": [],
            "_model_module": "@jupyter-widgets/controls",
            "_model_module_version": "1.5.0",
            "_model_name": "HTMLModel",
            "_view_count": null,
            "_view_module": "@jupyter-widgets/controls",
            "_view_module_version": "1.5.0",
            "_view_name": "HTMLView",
            "description": "",
            "description_tooltip": null,
            "layout": "IPY_MODEL_03ebb25c980a4e9fbfb7f39cd9a96def",
            "placeholder": "​",
            "style": "IPY_MODEL_eabb5e26ed694fcf8d1721dc451f9964",
            "value": "vocab.txt: 100%"
          }
        },
        "baaaa50fc7884a78ab64946d18bfb5cd": {
          "model_module": "@jupyter-widgets/controls",
          "model_name": "FloatProgressModel",
          "model_module_version": "1.5.0",
          "state": {
            "_dom_classes": [],
            "_model_module": "@jupyter-widgets/controls",
            "_model_module_version": "1.5.0",
            "_model_name": "FloatProgressModel",
            "_view_count": null,
            "_view_module": "@jupyter-widgets/controls",
            "_view_module_version": "1.5.0",
            "_view_name": "ProgressView",
            "bar_style": "success",
            "description": "",
            "description_tooltip": null,
            "layout": "IPY_MODEL_1e6bc5dc6ef34c24aeea2d0a88f338fe",
            "max": 231508,
            "min": 0,
            "orientation": "horizontal",
            "style": "IPY_MODEL_aec5a3f8cca64ed4bfa594c0f4d705d6",
            "value": 231508
          }
        },
        "d5b146ab499b49a0867dc76c99b1dbc8": {
          "model_module": "@jupyter-widgets/controls",
          "model_name": "HTMLModel",
          "model_module_version": "1.5.0",
          "state": {
            "_dom_classes": [],
            "_model_module": "@jupyter-widgets/controls",
            "_model_module_version": "1.5.0",
            "_model_name": "HTMLModel",
            "_view_count": null,
            "_view_module": "@jupyter-widgets/controls",
            "_view_module_version": "1.5.0",
            "_view_name": "HTMLView",
            "description": "",
            "description_tooltip": null,
            "layout": "IPY_MODEL_6ebe919f150146cfaa70b7f2e1a9ae4a",
            "placeholder": "​",
            "style": "IPY_MODEL_623c0d9ef33240868c8a96a9d9b31ba2",
            "value": " 232k/232k [00:00&lt;00:00, 10.0MB/s]"
          }
        },
        "c29256da8368400a8bd9aea574af513e": {
          "model_module": "@jupyter-widgets/base",
          "model_name": "LayoutModel",
          "model_module_version": "1.2.0",
          "state": {
            "_model_module": "@jupyter-widgets/base",
            "_model_module_version": "1.2.0",
            "_model_name": "LayoutModel",
            "_view_count": null,
            "_view_module": "@jupyter-widgets/base",
            "_view_module_version": "1.2.0",
            "_view_name": "LayoutView",
            "align_content": null,
            "align_items": null,
            "align_self": null,
            "border": null,
            "bottom": null,
            "display": null,
            "flex": null,
            "flex_flow": null,
            "grid_area": null,
            "grid_auto_columns": null,
            "grid_auto_flow": null,
            "grid_auto_rows": null,
            "grid_column": null,
            "grid_gap": null,
            "grid_row": null,
            "grid_template_areas": null,
            "grid_template_columns": null,
            "grid_template_rows": null,
            "height": null,
            "justify_content": null,
            "justify_items": null,
            "left": null,
            "margin": null,
            "max_height": null,
            "max_width": null,
            "min_height": null,
            "min_width": null,
            "object_fit": null,
            "object_position": null,
            "order": null,
            "overflow": null,
            "overflow_x": null,
            "overflow_y": null,
            "padding": null,
            "right": null,
            "top": null,
            "visibility": null,
            "width": null
          }
        },
        "03ebb25c980a4e9fbfb7f39cd9a96def": {
          "model_module": "@jupyter-widgets/base",
          "model_name": "LayoutModel",
          "model_module_version": "1.2.0",
          "state": {
            "_model_module": "@jupyter-widgets/base",
            "_model_module_version": "1.2.0",
            "_model_name": "LayoutModel",
            "_view_count": null,
            "_view_module": "@jupyter-widgets/base",
            "_view_module_version": "1.2.0",
            "_view_name": "LayoutView",
            "align_content": null,
            "align_items": null,
            "align_self": null,
            "border": null,
            "bottom": null,
            "display": null,
            "flex": null,
            "flex_flow": null,
            "grid_area": null,
            "grid_auto_columns": null,
            "grid_auto_flow": null,
            "grid_auto_rows": null,
            "grid_column": null,
            "grid_gap": null,
            "grid_row": null,
            "grid_template_areas": null,
            "grid_template_columns": null,
            "grid_template_rows": null,
            "height": null,
            "justify_content": null,
            "justify_items": null,
            "left": null,
            "margin": null,
            "max_height": null,
            "max_width": null,
            "min_height": null,
            "min_width": null,
            "object_fit": null,
            "object_position": null,
            "order": null,
            "overflow": null,
            "overflow_x": null,
            "overflow_y": null,
            "padding": null,
            "right": null,
            "top": null,
            "visibility": null,
            "width": null
          }
        },
        "eabb5e26ed694fcf8d1721dc451f9964": {
          "model_module": "@jupyter-widgets/controls",
          "model_name": "DescriptionStyleModel",
          "model_module_version": "1.5.0",
          "state": {
            "_model_module": "@jupyter-widgets/controls",
            "_model_module_version": "1.5.0",
            "_model_name": "DescriptionStyleModel",
            "_view_count": null,
            "_view_module": "@jupyter-widgets/base",
            "_view_module_version": "1.2.0",
            "_view_name": "StyleView",
            "description_width": ""
          }
        },
        "1e6bc5dc6ef34c24aeea2d0a88f338fe": {
          "model_module": "@jupyter-widgets/base",
          "model_name": "LayoutModel",
          "model_module_version": "1.2.0",
          "state": {
            "_model_module": "@jupyter-widgets/base",
            "_model_module_version": "1.2.0",
            "_model_name": "LayoutModel",
            "_view_count": null,
            "_view_module": "@jupyter-widgets/base",
            "_view_module_version": "1.2.0",
            "_view_name": "LayoutView",
            "align_content": null,
            "align_items": null,
            "align_self": null,
            "border": null,
            "bottom": null,
            "display": null,
            "flex": null,
            "flex_flow": null,
            "grid_area": null,
            "grid_auto_columns": null,
            "grid_auto_flow": null,
            "grid_auto_rows": null,
            "grid_column": null,
            "grid_gap": null,
            "grid_row": null,
            "grid_template_areas": null,
            "grid_template_columns": null,
            "grid_template_rows": null,
            "height": null,
            "justify_content": null,
            "justify_items": null,
            "left": null,
            "margin": null,
            "max_height": null,
            "max_width": null,
            "min_height": null,
            "min_width": null,
            "object_fit": null,
            "object_position": null,
            "order": null,
            "overflow": null,
            "overflow_x": null,
            "overflow_y": null,
            "padding": null,
            "right": null,
            "top": null,
            "visibility": null,
            "width": null
          }
        },
        "aec5a3f8cca64ed4bfa594c0f4d705d6": {
          "model_module": "@jupyter-widgets/controls",
          "model_name": "ProgressStyleModel",
          "model_module_version": "1.5.0",
          "state": {
            "_model_module": "@jupyter-widgets/controls",
            "_model_module_version": "1.5.0",
            "_model_name": "ProgressStyleModel",
            "_view_count": null,
            "_view_module": "@jupyter-widgets/base",
            "_view_module_version": "1.2.0",
            "_view_name": "StyleView",
            "bar_color": null,
            "description_width": ""
          }
        },
        "6ebe919f150146cfaa70b7f2e1a9ae4a": {
          "model_module": "@jupyter-widgets/base",
          "model_name": "LayoutModel",
          "model_module_version": "1.2.0",
          "state": {
            "_model_module": "@jupyter-widgets/base",
            "_model_module_version": "1.2.0",
            "_model_name": "LayoutModel",
            "_view_count": null,
            "_view_module": "@jupyter-widgets/base",
            "_view_module_version": "1.2.0",
            "_view_name": "LayoutView",
            "align_content": null,
            "align_items": null,
            "align_self": null,
            "border": null,
            "bottom": null,
            "display": null,
            "flex": null,
            "flex_flow": null,
            "grid_area": null,
            "grid_auto_columns": null,
            "grid_auto_flow": null,
            "grid_auto_rows": null,
            "grid_column": null,
            "grid_gap": null,
            "grid_row": null,
            "grid_template_areas": null,
            "grid_template_columns": null,
            "grid_template_rows": null,
            "height": null,
            "justify_content": null,
            "justify_items": null,
            "left": null,
            "margin": null,
            "max_height": null,
            "max_width": null,
            "min_height": null,
            "min_width": null,
            "object_fit": null,
            "object_position": null,
            "order": null,
            "overflow": null,
            "overflow_x": null,
            "overflow_y": null,
            "padding": null,
            "right": null,
            "top": null,
            "visibility": null,
            "width": null
          }
        },
        "623c0d9ef33240868c8a96a9d9b31ba2": {
          "model_module": "@jupyter-widgets/controls",
          "model_name": "DescriptionStyleModel",
          "model_module_version": "1.5.0",
          "state": {
            "_model_module": "@jupyter-widgets/controls",
            "_model_module_version": "1.5.0",
            "_model_name": "DescriptionStyleModel",
            "_view_count": null,
            "_view_module": "@jupyter-widgets/base",
            "_view_module_version": "1.2.0",
            "_view_name": "StyleView",
            "description_width": ""
          }
        },
        "878bf07457ba4b5f945f3ce7ad695361": {
          "model_module": "@jupyter-widgets/controls",
          "model_name": "HBoxModel",
          "model_module_version": "1.5.0",
          "state": {
            "_dom_classes": [],
            "_model_module": "@jupyter-widgets/controls",
            "_model_module_version": "1.5.0",
            "_model_name": "HBoxModel",
            "_view_count": null,
            "_view_module": "@jupyter-widgets/controls",
            "_view_module_version": "1.5.0",
            "_view_name": "HBoxView",
            "box_style": "",
            "children": [
              "IPY_MODEL_a40c2abd2f6444e795a4604879cd9cf1",
              "IPY_MODEL_10fdcbe427a448b885c08187891600dd",
              "IPY_MODEL_1eeb8e198ab0439781f2182b20835b8c"
            ],
            "layout": "IPY_MODEL_0922ebb62430424082ae5221b6517eb1"
          }
        },
        "a40c2abd2f6444e795a4604879cd9cf1": {
          "model_module": "@jupyter-widgets/controls",
          "model_name": "HTMLModel",
          "model_module_version": "1.5.0",
          "state": {
            "_dom_classes": [],
            "_model_module": "@jupyter-widgets/controls",
            "_model_module_version": "1.5.0",
            "_model_name": "HTMLModel",
            "_view_count": null,
            "_view_module": "@jupyter-widgets/controls",
            "_view_module_version": "1.5.0",
            "_view_name": "HTMLView",
            "description": "",
            "description_tooltip": null,
            "layout": "IPY_MODEL_3f630f22e2a44a439bfdaef82973a1d8",
            "placeholder": "​",
            "style": "IPY_MODEL_5a15420380ac49eb9c4e6ed867ab954f",
            "value": "tokenizer.json: 100%"
          }
        },
        "10fdcbe427a448b885c08187891600dd": {
          "model_module": "@jupyter-widgets/controls",
          "model_name": "FloatProgressModel",
          "model_module_version": "1.5.0",
          "state": {
            "_dom_classes": [],
            "_model_module": "@jupyter-widgets/controls",
            "_model_module_version": "1.5.0",
            "_model_name": "FloatProgressModel",
            "_view_count": null,
            "_view_module": "@jupyter-widgets/controls",
            "_view_module_version": "1.5.0",
            "_view_name": "ProgressView",
            "bar_style": "success",
            "description": "",
            "description_tooltip": null,
            "layout": "IPY_MODEL_7f5a9f73299846eda6a1cee90ab66881",
            "max": 466062,
            "min": 0,
            "orientation": "horizontal",
            "style": "IPY_MODEL_7e447e7bd76249a78a6bfbd33fc02cb1",
            "value": 466062
          }
        },
        "1eeb8e198ab0439781f2182b20835b8c": {
          "model_module": "@jupyter-widgets/controls",
          "model_name": "HTMLModel",
          "model_module_version": "1.5.0",
          "state": {
            "_dom_classes": [],
            "_model_module": "@jupyter-widgets/controls",
            "_model_module_version": "1.5.0",
            "_model_name": "HTMLModel",
            "_view_count": null,
            "_view_module": "@jupyter-widgets/controls",
            "_view_module_version": "1.5.0",
            "_view_name": "HTMLView",
            "description": "",
            "description_tooltip": null,
            "layout": "IPY_MODEL_48cb57e867754a30845cd19ec8082008",
            "placeholder": "​",
            "style": "IPY_MODEL_645383ac4fe44f16ba4e05443161466f",
            "value": " 466k/466k [00:00&lt;00:00, 24.8MB/s]"
          }
        },
        "0922ebb62430424082ae5221b6517eb1": {
          "model_module": "@jupyter-widgets/base",
          "model_name": "LayoutModel",
          "model_module_version": "1.2.0",
          "state": {
            "_model_module": "@jupyter-widgets/base",
            "_model_module_version": "1.2.0",
            "_model_name": "LayoutModel",
            "_view_count": null,
            "_view_module": "@jupyter-widgets/base",
            "_view_module_version": "1.2.0",
            "_view_name": "LayoutView",
            "align_content": null,
            "align_items": null,
            "align_self": null,
            "border": null,
            "bottom": null,
            "display": null,
            "flex": null,
            "flex_flow": null,
            "grid_area": null,
            "grid_auto_columns": null,
            "grid_auto_flow": null,
            "grid_auto_rows": null,
            "grid_column": null,
            "grid_gap": null,
            "grid_row": null,
            "grid_template_areas": null,
            "grid_template_columns": null,
            "grid_template_rows": null,
            "height": null,
            "justify_content": null,
            "justify_items": null,
            "left": null,
            "margin": null,
            "max_height": null,
            "max_width": null,
            "min_height": null,
            "min_width": null,
            "object_fit": null,
            "object_position": null,
            "order": null,
            "overflow": null,
            "overflow_x": null,
            "overflow_y": null,
            "padding": null,
            "right": null,
            "top": null,
            "visibility": null,
            "width": null
          }
        },
        "3f630f22e2a44a439bfdaef82973a1d8": {
          "model_module": "@jupyter-widgets/base",
          "model_name": "LayoutModel",
          "model_module_version": "1.2.0",
          "state": {
            "_model_module": "@jupyter-widgets/base",
            "_model_module_version": "1.2.0",
            "_model_name": "LayoutModel",
            "_view_count": null,
            "_view_module": "@jupyter-widgets/base",
            "_view_module_version": "1.2.0",
            "_view_name": "LayoutView",
            "align_content": null,
            "align_items": null,
            "align_self": null,
            "border": null,
            "bottom": null,
            "display": null,
            "flex": null,
            "flex_flow": null,
            "grid_area": null,
            "grid_auto_columns": null,
            "grid_auto_flow": null,
            "grid_auto_rows": null,
            "grid_column": null,
            "grid_gap": null,
            "grid_row": null,
            "grid_template_areas": null,
            "grid_template_columns": null,
            "grid_template_rows": null,
            "height": null,
            "justify_content": null,
            "justify_items": null,
            "left": null,
            "margin": null,
            "max_height": null,
            "max_width": null,
            "min_height": null,
            "min_width": null,
            "object_fit": null,
            "object_position": null,
            "order": null,
            "overflow": null,
            "overflow_x": null,
            "overflow_y": null,
            "padding": null,
            "right": null,
            "top": null,
            "visibility": null,
            "width": null
          }
        },
        "5a15420380ac49eb9c4e6ed867ab954f": {
          "model_module": "@jupyter-widgets/controls",
          "model_name": "DescriptionStyleModel",
          "model_module_version": "1.5.0",
          "state": {
            "_model_module": "@jupyter-widgets/controls",
            "_model_module_version": "1.5.0",
            "_model_name": "DescriptionStyleModel",
            "_view_count": null,
            "_view_module": "@jupyter-widgets/base",
            "_view_module_version": "1.2.0",
            "_view_name": "StyleView",
            "description_width": ""
          }
        },
        "7f5a9f73299846eda6a1cee90ab66881": {
          "model_module": "@jupyter-widgets/base",
          "model_name": "LayoutModel",
          "model_module_version": "1.2.0",
          "state": {
            "_model_module": "@jupyter-widgets/base",
            "_model_module_version": "1.2.0",
            "_model_name": "LayoutModel",
            "_view_count": null,
            "_view_module": "@jupyter-widgets/base",
            "_view_module_version": "1.2.0",
            "_view_name": "LayoutView",
            "align_content": null,
            "align_items": null,
            "align_self": null,
            "border": null,
            "bottom": null,
            "display": null,
            "flex": null,
            "flex_flow": null,
            "grid_area": null,
            "grid_auto_columns": null,
            "grid_auto_flow": null,
            "grid_auto_rows": null,
            "grid_column": null,
            "grid_gap": null,
            "grid_row": null,
            "grid_template_areas": null,
            "grid_template_columns": null,
            "grid_template_rows": null,
            "height": null,
            "justify_content": null,
            "justify_items": null,
            "left": null,
            "margin": null,
            "max_height": null,
            "max_width": null,
            "min_height": null,
            "min_width": null,
            "object_fit": null,
            "object_position": null,
            "order": null,
            "overflow": null,
            "overflow_x": null,
            "overflow_y": null,
            "padding": null,
            "right": null,
            "top": null,
            "visibility": null,
            "width": null
          }
        },
        "7e447e7bd76249a78a6bfbd33fc02cb1": {
          "model_module": "@jupyter-widgets/controls",
          "model_name": "ProgressStyleModel",
          "model_module_version": "1.5.0",
          "state": {
            "_model_module": "@jupyter-widgets/controls",
            "_model_module_version": "1.5.0",
            "_model_name": "ProgressStyleModel",
            "_view_count": null,
            "_view_module": "@jupyter-widgets/base",
            "_view_module_version": "1.2.0",
            "_view_name": "StyleView",
            "bar_color": null,
            "description_width": ""
          }
        },
        "48cb57e867754a30845cd19ec8082008": {
          "model_module": "@jupyter-widgets/base",
          "model_name": "LayoutModel",
          "model_module_version": "1.2.0",
          "state": {
            "_model_module": "@jupyter-widgets/base",
            "_model_module_version": "1.2.0",
            "_model_name": "LayoutModel",
            "_view_count": null,
            "_view_module": "@jupyter-widgets/base",
            "_view_module_version": "1.2.0",
            "_view_name": "LayoutView",
            "align_content": null,
            "align_items": null,
            "align_self": null,
            "border": null,
            "bottom": null,
            "display": null,
            "flex": null,
            "flex_flow": null,
            "grid_area": null,
            "grid_auto_columns": null,
            "grid_auto_flow": null,
            "grid_auto_rows": null,
            "grid_column": null,
            "grid_gap": null,
            "grid_row": null,
            "grid_template_areas": null,
            "grid_template_columns": null,
            "grid_template_rows": null,
            "height": null,
            "justify_content": null,
            "justify_items": null,
            "left": null,
            "margin": null,
            "max_height": null,
            "max_width": null,
            "min_height": null,
            "min_width": null,
            "object_fit": null,
            "object_position": null,
            "order": null,
            "overflow": null,
            "overflow_x": null,
            "overflow_y": null,
            "padding": null,
            "right": null,
            "top": null,
            "visibility": null,
            "width": null
          }
        },
        "645383ac4fe44f16ba4e05443161466f": {
          "model_module": "@jupyter-widgets/controls",
          "model_name": "DescriptionStyleModel",
          "model_module_version": "1.5.0",
          "state": {
            "_model_module": "@jupyter-widgets/controls",
            "_model_module_version": "1.5.0",
            "_model_name": "DescriptionStyleModel",
            "_view_count": null,
            "_view_module": "@jupyter-widgets/base",
            "_view_module_version": "1.2.0",
            "_view_name": "StyleView",
            "description_width": ""
          }
        },
        "3360e1faf2ea40b999e6b4e0b9c14a82": {
          "model_module": "@jupyter-widgets/controls",
          "model_name": "HBoxModel",
          "model_module_version": "1.5.0",
          "state": {
            "_dom_classes": [],
            "_model_module": "@jupyter-widgets/controls",
            "_model_module_version": "1.5.0",
            "_model_name": "HBoxModel",
            "_view_count": null,
            "_view_module": "@jupyter-widgets/controls",
            "_view_module_version": "1.5.0",
            "_view_name": "HBoxView",
            "box_style": "",
            "children": [
              "IPY_MODEL_a6596af0726e481aa707e4ccd221aded",
              "IPY_MODEL_45a430f8d29647f9a002c8bb5fd92477",
              "IPY_MODEL_114ce074c4ad4a5e813aed1693cf4699"
            ],
            "layout": "IPY_MODEL_b01c8aef494d4c16a1dc9928feef0d1f"
          }
        },
        "a6596af0726e481aa707e4ccd221aded": {
          "model_module": "@jupyter-widgets/controls",
          "model_name": "HTMLModel",
          "model_module_version": "1.5.0",
          "state": {
            "_dom_classes": [],
            "_model_module": "@jupyter-widgets/controls",
            "_model_module_version": "1.5.0",
            "_model_name": "HTMLModel",
            "_view_count": null,
            "_view_module": "@jupyter-widgets/controls",
            "_view_module_version": "1.5.0",
            "_view_name": "HTMLView",
            "description": "",
            "description_tooltip": null,
            "layout": "IPY_MODEL_77c760a92f7943fcbd3ecf0b7ccfa434",
            "placeholder": "​",
            "style": "IPY_MODEL_e337ace1dad94dbabd55b5eb396f3c93",
            "value": "config.json: 100%"
          }
        },
        "45a430f8d29647f9a002c8bb5fd92477": {
          "model_module": "@jupyter-widgets/controls",
          "model_name": "FloatProgressModel",
          "model_module_version": "1.5.0",
          "state": {
            "_dom_classes": [],
            "_model_module": "@jupyter-widgets/controls",
            "_model_module_version": "1.5.0",
            "_model_name": "FloatProgressModel",
            "_view_count": null,
            "_view_module": "@jupyter-widgets/controls",
            "_view_module_version": "1.5.0",
            "_view_name": "ProgressView",
            "bar_style": "success",
            "description": "",
            "description_tooltip": null,
            "layout": "IPY_MODEL_a2ee7a5101854e399ad8502111cd8f35",
            "max": 570,
            "min": 0,
            "orientation": "horizontal",
            "style": "IPY_MODEL_9be2c18342064858b1dc06811e4e7bd9",
            "value": 570
          }
        },
        "114ce074c4ad4a5e813aed1693cf4699": {
          "model_module": "@jupyter-widgets/controls",
          "model_name": "HTMLModel",
          "model_module_version": "1.5.0",
          "state": {
            "_dom_classes": [],
            "_model_module": "@jupyter-widgets/controls",
            "_model_module_version": "1.5.0",
            "_model_name": "HTMLModel",
            "_view_count": null,
            "_view_module": "@jupyter-widgets/controls",
            "_view_module_version": "1.5.0",
            "_view_name": "HTMLView",
            "description": "",
            "description_tooltip": null,
            "layout": "IPY_MODEL_1efebe7722504556a7b8c34e7b87e075",
            "placeholder": "​",
            "style": "IPY_MODEL_ee6d5479a76649849088353ef76aa212",
            "value": " 570/570 [00:00&lt;00:00, 40.2kB/s]"
          }
        },
        "b01c8aef494d4c16a1dc9928feef0d1f": {
          "model_module": "@jupyter-widgets/base",
          "model_name": "LayoutModel",
          "model_module_version": "1.2.0",
          "state": {
            "_model_module": "@jupyter-widgets/base",
            "_model_module_version": "1.2.0",
            "_model_name": "LayoutModel",
            "_view_count": null,
            "_view_module": "@jupyter-widgets/base",
            "_view_module_version": "1.2.0",
            "_view_name": "LayoutView",
            "align_content": null,
            "align_items": null,
            "align_self": null,
            "border": null,
            "bottom": null,
            "display": null,
            "flex": null,
            "flex_flow": null,
            "grid_area": null,
            "grid_auto_columns": null,
            "grid_auto_flow": null,
            "grid_auto_rows": null,
            "grid_column": null,
            "grid_gap": null,
            "grid_row": null,
            "grid_template_areas": null,
            "grid_template_columns": null,
            "grid_template_rows": null,
            "height": null,
            "justify_content": null,
            "justify_items": null,
            "left": null,
            "margin": null,
            "max_height": null,
            "max_width": null,
            "min_height": null,
            "min_width": null,
            "object_fit": null,
            "object_position": null,
            "order": null,
            "overflow": null,
            "overflow_x": null,
            "overflow_y": null,
            "padding": null,
            "right": null,
            "top": null,
            "visibility": null,
            "width": null
          }
        },
        "77c760a92f7943fcbd3ecf0b7ccfa434": {
          "model_module": "@jupyter-widgets/base",
          "model_name": "LayoutModel",
          "model_module_version": "1.2.0",
          "state": {
            "_model_module": "@jupyter-widgets/base",
            "_model_module_version": "1.2.0",
            "_model_name": "LayoutModel",
            "_view_count": null,
            "_view_module": "@jupyter-widgets/base",
            "_view_module_version": "1.2.0",
            "_view_name": "LayoutView",
            "align_content": null,
            "align_items": null,
            "align_self": null,
            "border": null,
            "bottom": null,
            "display": null,
            "flex": null,
            "flex_flow": null,
            "grid_area": null,
            "grid_auto_columns": null,
            "grid_auto_flow": null,
            "grid_auto_rows": null,
            "grid_column": null,
            "grid_gap": null,
            "grid_row": null,
            "grid_template_areas": null,
            "grid_template_columns": null,
            "grid_template_rows": null,
            "height": null,
            "justify_content": null,
            "justify_items": null,
            "left": null,
            "margin": null,
            "max_height": null,
            "max_width": null,
            "min_height": null,
            "min_width": null,
            "object_fit": null,
            "object_position": null,
            "order": null,
            "overflow": null,
            "overflow_x": null,
            "overflow_y": null,
            "padding": null,
            "right": null,
            "top": null,
            "visibility": null,
            "width": null
          }
        },
        "e337ace1dad94dbabd55b5eb396f3c93": {
          "model_module": "@jupyter-widgets/controls",
          "model_name": "DescriptionStyleModel",
          "model_module_version": "1.5.0",
          "state": {
            "_model_module": "@jupyter-widgets/controls",
            "_model_module_version": "1.5.0",
            "_model_name": "DescriptionStyleModel",
            "_view_count": null,
            "_view_module": "@jupyter-widgets/base",
            "_view_module_version": "1.2.0",
            "_view_name": "StyleView",
            "description_width": ""
          }
        },
        "a2ee7a5101854e399ad8502111cd8f35": {
          "model_module": "@jupyter-widgets/base",
          "model_name": "LayoutModel",
          "model_module_version": "1.2.0",
          "state": {
            "_model_module": "@jupyter-widgets/base",
            "_model_module_version": "1.2.0",
            "_model_name": "LayoutModel",
            "_view_count": null,
            "_view_module": "@jupyter-widgets/base",
            "_view_module_version": "1.2.0",
            "_view_name": "LayoutView",
            "align_content": null,
            "align_items": null,
            "align_self": null,
            "border": null,
            "bottom": null,
            "display": null,
            "flex": null,
            "flex_flow": null,
            "grid_area": null,
            "grid_auto_columns": null,
            "grid_auto_flow": null,
            "grid_auto_rows": null,
            "grid_column": null,
            "grid_gap": null,
            "grid_row": null,
            "grid_template_areas": null,
            "grid_template_columns": null,
            "grid_template_rows": null,
            "height": null,
            "justify_content": null,
            "justify_items": null,
            "left": null,
            "margin": null,
            "max_height": null,
            "max_width": null,
            "min_height": null,
            "min_width": null,
            "object_fit": null,
            "object_position": null,
            "order": null,
            "overflow": null,
            "overflow_x": null,
            "overflow_y": null,
            "padding": null,
            "right": null,
            "top": null,
            "visibility": null,
            "width": null
          }
        },
        "9be2c18342064858b1dc06811e4e7bd9": {
          "model_module": "@jupyter-widgets/controls",
          "model_name": "ProgressStyleModel",
          "model_module_version": "1.5.0",
          "state": {
            "_model_module": "@jupyter-widgets/controls",
            "_model_module_version": "1.5.0",
            "_model_name": "ProgressStyleModel",
            "_view_count": null,
            "_view_module": "@jupyter-widgets/base",
            "_view_module_version": "1.2.0",
            "_view_name": "StyleView",
            "bar_color": null,
            "description_width": ""
          }
        },
        "1efebe7722504556a7b8c34e7b87e075": {
          "model_module": "@jupyter-widgets/base",
          "model_name": "LayoutModel",
          "model_module_version": "1.2.0",
          "state": {
            "_model_module": "@jupyter-widgets/base",
            "_model_module_version": "1.2.0",
            "_model_name": "LayoutModel",
            "_view_count": null,
            "_view_module": "@jupyter-widgets/base",
            "_view_module_version": "1.2.0",
            "_view_name": "LayoutView",
            "align_content": null,
            "align_items": null,
            "align_self": null,
            "border": null,
            "bottom": null,
            "display": null,
            "flex": null,
            "flex_flow": null,
            "grid_area": null,
            "grid_auto_columns": null,
            "grid_auto_flow": null,
            "grid_auto_rows": null,
            "grid_column": null,
            "grid_gap": null,
            "grid_row": null,
            "grid_template_areas": null,
            "grid_template_columns": null,
            "grid_template_rows": null,
            "height": null,
            "justify_content": null,
            "justify_items": null,
            "left": null,
            "margin": null,
            "max_height": null,
            "max_width": null,
            "min_height": null,
            "min_width": null,
            "object_fit": null,
            "object_position": null,
            "order": null,
            "overflow": null,
            "overflow_x": null,
            "overflow_y": null,
            "padding": null,
            "right": null,
            "top": null,
            "visibility": null,
            "width": null
          }
        },
        "ee6d5479a76649849088353ef76aa212": {
          "model_module": "@jupyter-widgets/controls",
          "model_name": "DescriptionStyleModel",
          "model_module_version": "1.5.0",
          "state": {
            "_model_module": "@jupyter-widgets/controls",
            "_model_module_version": "1.5.0",
            "_model_name": "DescriptionStyleModel",
            "_view_count": null,
            "_view_module": "@jupyter-widgets/base",
            "_view_module_version": "1.2.0",
            "_view_name": "StyleView",
            "description_width": ""
          }
        },
        "23c061365c944f45b6baad91b2046c9a": {
          "model_module": "@jupyter-widgets/controls",
          "model_name": "HBoxModel",
          "model_module_version": "1.5.0",
          "state": {
            "_dom_classes": [],
            "_model_module": "@jupyter-widgets/controls",
            "_model_module_version": "1.5.0",
            "_model_name": "HBoxModel",
            "_view_count": null,
            "_view_module": "@jupyter-widgets/controls",
            "_view_module_version": "1.5.0",
            "_view_name": "HBoxView",
            "box_style": "",
            "children": [
              "IPY_MODEL_3ac5c44ce98143c4a59ff4e9c4b63fd2",
              "IPY_MODEL_42764ee9722746c3a2395aee1bd3ccf1",
              "IPY_MODEL_ec26ce3087d043d1b3636b16d03988a5"
            ],
            "layout": "IPY_MODEL_f5b559c654254054aa5e2a9412dac852"
          }
        },
        "3ac5c44ce98143c4a59ff4e9c4b63fd2": {
          "model_module": "@jupyter-widgets/controls",
          "model_name": "HTMLModel",
          "model_module_version": "1.5.0",
          "state": {
            "_dom_classes": [],
            "_model_module": "@jupyter-widgets/controls",
            "_model_module_version": "1.5.0",
            "_model_name": "HTMLModel",
            "_view_count": null,
            "_view_module": "@jupyter-widgets/controls",
            "_view_module_version": "1.5.0",
            "_view_name": "HTMLView",
            "description": "",
            "description_tooltip": null,
            "layout": "IPY_MODEL_71b7e99b46ac494190ae4687d5fc1abe",
            "placeholder": "​",
            "style": "IPY_MODEL_42751dd0adc34afd9a69a187d13b4629",
            "value": "model.safetensors: 100%"
          }
        },
        "42764ee9722746c3a2395aee1bd3ccf1": {
          "model_module": "@jupyter-widgets/controls",
          "model_name": "FloatProgressModel",
          "model_module_version": "1.5.0",
          "state": {
            "_dom_classes": [],
            "_model_module": "@jupyter-widgets/controls",
            "_model_module_version": "1.5.0",
            "_model_name": "FloatProgressModel",
            "_view_count": null,
            "_view_module": "@jupyter-widgets/controls",
            "_view_module_version": "1.5.0",
            "_view_name": "ProgressView",
            "bar_style": "success",
            "description": "",
            "description_tooltip": null,
            "layout": "IPY_MODEL_3cfd4d716b274496b80400e60674f58a",
            "max": 440449768,
            "min": 0,
            "orientation": "horizontal",
            "style": "IPY_MODEL_fd63b4d4dfd242e3b499fb56ddae6611",
            "value": 440449768
          }
        },
        "ec26ce3087d043d1b3636b16d03988a5": {
          "model_module": "@jupyter-widgets/controls",
          "model_name": "HTMLModel",
          "model_module_version": "1.5.0",
          "state": {
            "_dom_classes": [],
            "_model_module": "@jupyter-widgets/controls",
            "_model_module_version": "1.5.0",
            "_model_name": "HTMLModel",
            "_view_count": null,
            "_view_module": "@jupyter-widgets/controls",
            "_view_module_version": "1.5.0",
            "_view_name": "HTMLView",
            "description": "",
            "description_tooltip": null,
            "layout": "IPY_MODEL_830542505b0343c392360f10ecb6a53b",
            "placeholder": "​",
            "style": "IPY_MODEL_bf03ddfbf89d4d7eaea07e18a0121878",
            "value": " 440M/440M [00:03&lt;00:00, 177MB/s]"
          }
        },
        "f5b559c654254054aa5e2a9412dac852": {
          "model_module": "@jupyter-widgets/base",
          "model_name": "LayoutModel",
          "model_module_version": "1.2.0",
          "state": {
            "_model_module": "@jupyter-widgets/base",
            "_model_module_version": "1.2.0",
            "_model_name": "LayoutModel",
            "_view_count": null,
            "_view_module": "@jupyter-widgets/base",
            "_view_module_version": "1.2.0",
            "_view_name": "LayoutView",
            "align_content": null,
            "align_items": null,
            "align_self": null,
            "border": null,
            "bottom": null,
            "display": null,
            "flex": null,
            "flex_flow": null,
            "grid_area": null,
            "grid_auto_columns": null,
            "grid_auto_flow": null,
            "grid_auto_rows": null,
            "grid_column": null,
            "grid_gap": null,
            "grid_row": null,
            "grid_template_areas": null,
            "grid_template_columns": null,
            "grid_template_rows": null,
            "height": null,
            "justify_content": null,
            "justify_items": null,
            "left": null,
            "margin": null,
            "max_height": null,
            "max_width": null,
            "min_height": null,
            "min_width": null,
            "object_fit": null,
            "object_position": null,
            "order": null,
            "overflow": null,
            "overflow_x": null,
            "overflow_y": null,
            "padding": null,
            "right": null,
            "top": null,
            "visibility": null,
            "width": null
          }
        },
        "71b7e99b46ac494190ae4687d5fc1abe": {
          "model_module": "@jupyter-widgets/base",
          "model_name": "LayoutModel",
          "model_module_version": "1.2.0",
          "state": {
            "_model_module": "@jupyter-widgets/base",
            "_model_module_version": "1.2.0",
            "_model_name": "LayoutModel",
            "_view_count": null,
            "_view_module": "@jupyter-widgets/base",
            "_view_module_version": "1.2.0",
            "_view_name": "LayoutView",
            "align_content": null,
            "align_items": null,
            "align_self": null,
            "border": null,
            "bottom": null,
            "display": null,
            "flex": null,
            "flex_flow": null,
            "grid_area": null,
            "grid_auto_columns": null,
            "grid_auto_flow": null,
            "grid_auto_rows": null,
            "grid_column": null,
            "grid_gap": null,
            "grid_row": null,
            "grid_template_areas": null,
            "grid_template_columns": null,
            "grid_template_rows": null,
            "height": null,
            "justify_content": null,
            "justify_items": null,
            "left": null,
            "margin": null,
            "max_height": null,
            "max_width": null,
            "min_height": null,
            "min_width": null,
            "object_fit": null,
            "object_position": null,
            "order": null,
            "overflow": null,
            "overflow_x": null,
            "overflow_y": null,
            "padding": null,
            "right": null,
            "top": null,
            "visibility": null,
            "width": null
          }
        },
        "42751dd0adc34afd9a69a187d13b4629": {
          "model_module": "@jupyter-widgets/controls",
          "model_name": "DescriptionStyleModel",
          "model_module_version": "1.5.0",
          "state": {
            "_model_module": "@jupyter-widgets/controls",
            "_model_module_version": "1.5.0",
            "_model_name": "DescriptionStyleModel",
            "_view_count": null,
            "_view_module": "@jupyter-widgets/base",
            "_view_module_version": "1.2.0",
            "_view_name": "StyleView",
            "description_width": ""
          }
        },
        "3cfd4d716b274496b80400e60674f58a": {
          "model_module": "@jupyter-widgets/base",
          "model_name": "LayoutModel",
          "model_module_version": "1.2.0",
          "state": {
            "_model_module": "@jupyter-widgets/base",
            "_model_module_version": "1.2.0",
            "_model_name": "LayoutModel",
            "_view_count": null,
            "_view_module": "@jupyter-widgets/base",
            "_view_module_version": "1.2.0",
            "_view_name": "LayoutView",
            "align_content": null,
            "align_items": null,
            "align_self": null,
            "border": null,
            "bottom": null,
            "display": null,
            "flex": null,
            "flex_flow": null,
            "grid_area": null,
            "grid_auto_columns": null,
            "grid_auto_flow": null,
            "grid_auto_rows": null,
            "grid_column": null,
            "grid_gap": null,
            "grid_row": null,
            "grid_template_areas": null,
            "grid_template_columns": null,
            "grid_template_rows": null,
            "height": null,
            "justify_content": null,
            "justify_items": null,
            "left": null,
            "margin": null,
            "max_height": null,
            "max_width": null,
            "min_height": null,
            "min_width": null,
            "object_fit": null,
            "object_position": null,
            "order": null,
            "overflow": null,
            "overflow_x": null,
            "overflow_y": null,
            "padding": null,
            "right": null,
            "top": null,
            "visibility": null,
            "width": null
          }
        },
        "fd63b4d4dfd242e3b499fb56ddae6611": {
          "model_module": "@jupyter-widgets/controls",
          "model_name": "ProgressStyleModel",
          "model_module_version": "1.5.0",
          "state": {
            "_model_module": "@jupyter-widgets/controls",
            "_model_module_version": "1.5.0",
            "_model_name": "ProgressStyleModel",
            "_view_count": null,
            "_view_module": "@jupyter-widgets/base",
            "_view_module_version": "1.2.0",
            "_view_name": "StyleView",
            "bar_color": null,
            "description_width": ""
          }
        },
        "830542505b0343c392360f10ecb6a53b": {
          "model_module": "@jupyter-widgets/base",
          "model_name": "LayoutModel",
          "model_module_version": "1.2.0",
          "state": {
            "_model_module": "@jupyter-widgets/base",
            "_model_module_version": "1.2.0",
            "_model_name": "LayoutModel",
            "_view_count": null,
            "_view_module": "@jupyter-widgets/base",
            "_view_module_version": "1.2.0",
            "_view_name": "LayoutView",
            "align_content": null,
            "align_items": null,
            "align_self": null,
            "border": null,
            "bottom": null,
            "display": null,
            "flex": null,
            "flex_flow": null,
            "grid_area": null,
            "grid_auto_columns": null,
            "grid_auto_flow": null,
            "grid_auto_rows": null,
            "grid_column": null,
            "grid_gap": null,
            "grid_row": null,
            "grid_template_areas": null,
            "grid_template_columns": null,
            "grid_template_rows": null,
            "height": null,
            "justify_content": null,
            "justify_items": null,
            "left": null,
            "margin": null,
            "max_height": null,
            "max_width": null,
            "min_height": null,
            "min_width": null,
            "object_fit": null,
            "object_position": null,
            "order": null,
            "overflow": null,
            "overflow_x": null,
            "overflow_y": null,
            "padding": null,
            "right": null,
            "top": null,
            "visibility": null,
            "width": null
          }
        },
        "bf03ddfbf89d4d7eaea07e18a0121878": {
          "model_module": "@jupyter-widgets/controls",
          "model_name": "DescriptionStyleModel",
          "model_module_version": "1.5.0",
          "state": {
            "_model_module": "@jupyter-widgets/controls",
            "_model_module_version": "1.5.0",
            "_model_name": "DescriptionStyleModel",
            "_view_count": null,
            "_view_module": "@jupyter-widgets/base",
            "_view_module_version": "1.2.0",
            "_view_name": "StyleView",
            "description_width": ""
          }
        }
      }
    }
  },
  "nbformat": 4,
  "nbformat_minor": 0
}